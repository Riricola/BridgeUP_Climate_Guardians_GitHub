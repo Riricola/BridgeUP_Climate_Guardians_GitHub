{
 "cells": [
  {
   "cell_type": "markdown",
   "metadata": {},
   "source": [
    "# Multidimensional arrays"
   ]
  },
  {
   "cell_type": "markdown",
   "metadata": {},
   "source": [
    "Both the datasets we've worked with (NAO Index and NY Temperature) only have one dimension - time. The ocean temperature dataset we'll be working with is three-dimensional since it depends on time, latitude and longitude. \n",
    "\n",
    "This is a helpful example of a three-dimensional dataset: https://climate.nasa.gov/climate_resources/139/video-global-warming-from-1880-to-2019/\n",
    "\n",
    "xarray saves data as NumPy arrays because they are lot more useful when analyzing multidimensional data. Let's look at some handy NumPy funtions."
   ]
  },
  {
   "cell_type": "code",
   "execution_count": null,
   "metadata": {},
   "outputs": [],
   "source": [
    "#Import NumPy\n",
    "import numpy as np\n",
    "#Import other useful libraries\n",
    "import matplotlib.pyplot as plt\n",
    "from mpl_toolkits import mplot3d #helps make 3D plots"
   ]
  },
  {
   "cell_type": "markdown",
   "metadata": {},
   "source": [
    "Create a list of numbers from -10 to 10. It's pretty easy to do this manually but think of a way to do this with code."
   ]
  },
  {
   "cell_type": "code",
   "execution_count": null,
   "metadata": {},
   "outputs": [],
   "source": [
    "x = []"
   ]
  },
  {
   "cell_type": "markdown",
   "metadata": {},
   "source": [
    "Convert this to a NumPy array. \n",
    "\n",
    "`np.array(list)`: convert list to NumPy array"
   ]
  },
  {
   "cell_type": "code",
   "execution_count": null,
   "metadata": {},
   "outputs": [],
   "source": [
    "x = np.array(x)\n",
    "x"
   ]
  },
  {
   "cell_type": "markdown",
   "metadata": {},
   "source": [
    "### One-dimensional data\n",
    "\n",
    "Find the square of each number in the array."
   ]
  },
  {
   "cell_type": "code",
   "execution_count": null,
   "metadata": {},
   "outputs": [],
   "source": [
    "#Hint: You can run operations on each element in a NumPy array using the same syntax you would use for a single number. \n",
    "#For example,\n",
    "print(x + 2)\n",
    "print(x * 2)"
   ]
  },
  {
   "cell_type": "code",
   "execution_count": null,
   "metadata": {},
   "outputs": [],
   "source": [
    "data = []"
   ]
  },
  {
   "cell_type": "markdown",
   "metadata": {},
   "source": [
    "Plot x against data"
   ]
  },
  {
   "cell_type": "code",
   "execution_count": null,
   "metadata": {},
   "outputs": [],
   "source": []
  },
  {
   "cell_type": "markdown",
   "metadata": {},
   "source": [
    "### Two-dimensional data\n",
    "\n",
    "Let's make our data dependent on two dimensions - **x** and **y**. I have made them equal to each other to keep things simple."
   ]
  },
  {
   "cell_type": "code",
   "execution_count": null,
   "metadata": {},
   "outputs": [],
   "source": [
    "y = x\n",
    "X, Y = np.meshgrid(x,y)\n",
    "data = X**2 + Y**2"
   ]
  },
  {
   "cell_type": "markdown",
   "metadata": {},
   "source": [
    "Have a look at the data variable. It looks a little bit like a grid with each point corresponding to a x and y value."
   ]
  },
  {
   "cell_type": "code",
   "execution_count": null,
   "metadata": {},
   "outputs": [],
   "source": [
    "data"
   ]
  },
  {
   "cell_type": "markdown",
   "metadata": {},
   "source": [
    "Print the shape of the data that tells you the number of dimensions and the length of each dimension. Do these numbers make sense?\n",
    "\n",
    "`data_array.shape`: length of each dimension of array"
   ]
  },
  {
   "cell_type": "code",
   "execution_count": null,
   "metadata": {},
   "outputs": [],
   "source": [
    "print('length of x:', 0)\n",
    "print('length of y:', 0)\n",
    "print('shape of data:', 0)"
   ]
  },
  {
   "cell_type": "markdown",
   "metadata": {},
   "source": [
    "### Visualizing two-dimensional data\n",
    "\n",
    "The following plot helps you visualize this data. The circular lines or **contours** show you points of equal value."
   ]
  },
  {
   "cell_type": "code",
   "execution_count": null,
   "metadata": {},
   "outputs": [],
   "source": [
    "fig = plt.figure()\n",
    "ax = plt.axes(projection='3d')\n",
    "ax.contour3D(x, y, data, 25)\n",
    "plt.show()"
   ]
  },
  {
   "cell_type": "markdown",
   "metadata": {},
   "source": [
    "A flattened version of this plot is know as a **contour plot**\n",
    "\n",
    "`contour(X,Y,Z)`: plots contours of a two dimensional dataset"
   ]
  },
  {
   "cell_type": "code",
   "execution_count": null,
   "metadata": {},
   "outputs": [],
   "source": [
    "plt.figure()\n",
    "plt.contour(x,y,data)\n",
    "plt.colorbar(label = 'data')\n",
    "plt.xlabel('x')\n",
    "plt.ylabel('y')\n",
    "plt.show()"
   ]
  },
  {
   "cell_type": "markdown",
   "metadata": {},
   "source": [
    "A filled in contour plot is used extensively in earth sciences and is hopefully familiar to you already\n",
    "\n",
    "`contourf(X,Y,Z)`: plots filled-in contours of a two dimensional dataset"
   ]
  },
  {
   "cell_type": "code",
   "execution_count": null,
   "metadata": {},
   "outputs": [],
   "source": [
    "plt.figure()\n",
    "plt.contourf(X,Y,data)\n",
    "plt.colorbar(label = 'data')\n",
    "plt.xlabel('x')\n",
    "plt.ylabel('y')\n",
    "plt.show()"
   ]
  },
  {
   "cell_type": "markdown",
   "metadata": {},
   "source": [
    "### Practice\n",
    "\n",
    "In your processing data script (`process_SST_data.py`), \n",
    "1. visualize your sst data using a contour plot\n",
    "\n",
    "*Hint*: remember your data is three-dimensional. One way you can get a two-dimensional dataset by finding the mean SST ([documentation for the `mean` method](http://xarray.pydata.org/en/stable/generated/xarray.DataArray.mean.html)). Are there other ways you can do this?\n",
    "\n",
    "Use the space below to test out your code."
   ]
  },
  {
   "cell_type": "code",
   "execution_count": null,
   "metadata": {},
   "outputs": [],
   "source": []
  }
 ],
 "metadata": {
  "kernelspec": {
   "display_name": "Python 3",
   "language": "python",
   "name": "python3"
  },
  "language_info": {
   "codemirror_mode": {
    "name": "ipython",
    "version": 3
   },
   "file_extension": ".py",
   "mimetype": "text/x-python",
   "name": "python",
   "nbconvert_exporter": "python",
   "pygments_lexer": "ipython3",
   "version": "3.7.6"
  }
 },
 "nbformat": 4,
 "nbformat_minor": 4
}
