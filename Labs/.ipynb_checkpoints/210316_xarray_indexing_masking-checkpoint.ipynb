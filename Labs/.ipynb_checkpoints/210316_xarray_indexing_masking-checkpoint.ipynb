{
 "cells": [
  {
   "cell_type": "markdown",
   "metadata": {},
   "source": [
    "# Indexing and masking on xarray"
   ]
  },
  {
   "cell_type": "code",
   "execution_count": 2,
   "metadata": {},
   "outputs": [
    {
     "data": {
      "text/plain": [
       "<xarray.core.options.set_options at 0x7fb1ad892130>"
      ]
     },
     "execution_count": 2,
     "metadata": {},
     "output_type": "execute_result"
    }
   ],
   "source": [
    "#Import xarray\n",
    "import xarray as xr\n",
    "#Other useful Python libraries\n",
    "import os\n",
    "import matplotlib.pyplot as plt\n",
    "import numpy as np\n",
    "\n",
    "# This is what the display will look like on Sublime so we'll change our display style to reflect that\n",
    "xr.set_options(display_style=\"text\")"
   ]
  },
  {
   "cell_type": "markdown",
   "metadata": {},
   "source": [
    "Load in the SST data and save the necessary variables"
   ]
  },
  {
   "cell_type": "code",
   "execution_count": 3,
   "metadata": {},
   "outputs": [
    {
     "data": {
      "text/plain": [
       "'/Users/mariarodriguez/Desktop/2020_BridgeUP_Internships/Data'"
      ]
     },
     "execution_count": 3,
     "metadata": {},
     "output_type": "execute_result"
    }
   ],
   "source": [
    "#Change to path of directory\n",
    "dataPath = '/Users/mariarodriguez/Desktop/2020_BridgeUP_Internships/Data'\n",
    "os.chdir(dataPath)\n",
    "os.getcwd()"
   ]
  },
  {
   "cell_type": "code",
   "execution_count": 4,
   "metadata": {},
   "outputs": [],
   "source": [
    "# Load the sea surface temperature dataset\n",
    "fileName = 'HadISST_sst.nc'\n",
    "data1 = xr.open_dataset(fileName)\n",
    "\n",
    "#Save the necessary variables\n",
    "sst = data1.sst\n",
    "lat = data1.sst.latitude\n",
    "lon = data1.sst.longitude\n",
    "time = data1.sst.time"
   ]
  },
  {
   "cell_type": "markdown",
   "metadata": {},
   "source": [
    "### Refresher on list indexing\n",
    "\n",
    "For the provided list, find\n",
    "1. the first and last element\n",
    "1. second half of the list"
   ]
  },
  {
   "cell_type": "code",
   "execution_count": 5,
   "metadata": {},
   "outputs": [
    {
     "data": {
      "text/plain": [
       "[2, 4, 6, 8, 10, 12, 14, 16, 18, 20, 22, 24, 26, 28, 30, 32, 34, 36, 38, 40]"
      ]
     },
     "execution_count": 5,
     "metadata": {},
     "output_type": "execute_result"
    }
   ],
   "source": [
    "test_list = [i for i in range(2,42,2)] #does the same thing as appending values to a list\n",
    "test_list"
   ]
  },
  {
   "cell_type": "code",
   "execution_count": 6,
   "metadata": {},
   "outputs": [
    {
     "data": {
      "text/plain": [
       "40"
      ]
     },
     "execution_count": 6,
     "metadata": {},
     "output_type": "execute_result"
    }
   ],
   "source": [
    "#first and last element\n",
    "test_list[0]\n",
    "test_list[19]"
   ]
  },
  {
   "cell_type": "code",
   "execution_count": 7,
   "metadata": {},
   "outputs": [
    {
     "data": {
      "text/plain": [
       "[20, 22, 24, 26, 28, 30, 32, 34, 36, 38, 40]"
      ]
     },
     "execution_count": 7,
     "metadata": {},
     "output_type": "execute_result"
    }
   ],
   "source": [
    "#second half of list\n",
    "test_list[9:20]\n"
   ]
  },
  {
   "cell_type": "markdown",
   "metadata": {},
   "source": [
    "### Indexing NumPy arrays\n",
    "\n",
    "Lists are only useful when storing one dimensional data. For multidimensional data, we would use NumPy arrays instead. "
   ]
  },
  {
   "cell_type": "code",
   "execution_count": 8,
   "metadata": {},
   "outputs": [
    {
     "data": {
      "text/plain": [
       "array([[50, 41, 34, 29, 26, 25, 26, 29, 34, 41],\n",
       "       [41, 32, 25, 20, 17, 16, 17, 20, 25, 32],\n",
       "       [34, 25, 18, 13, 10,  9, 10, 13, 18, 25],\n",
       "       [29, 20, 13,  8,  5,  4,  5,  8, 13, 20],\n",
       "       [26, 17, 10,  5,  2,  1,  2,  5, 10, 17],\n",
       "       [25, 16,  9,  4,  1,  0,  1,  4,  9, 16],\n",
       "       [26, 17, 10,  5,  2,  1,  2,  5, 10, 17],\n",
       "       [29, 20, 13,  8,  5,  4,  5,  8, 13, 20],\n",
       "       [34, 25, 18, 13, 10,  9, 10, 13, 18, 25],\n",
       "       [41, 32, 25, 20, 17, 16, 17, 20, 25, 32]])"
      ]
     },
     "execution_count": 8,
     "metadata": {},
     "output_type": "execute_result"
    }
   ],
   "source": [
    "#Create dataset\n",
    "x = np.arange(-5,5)\n",
    "y = x\n",
    "X, Y = np.meshgrid(x,y)\n",
    "data = X**2 + Y**2\n",
    "data"
   ]
  },
  {
   "cell_type": "markdown",
   "metadata": {},
   "source": [
    "Our data looks a little bit like a grid. Say we want the element in the **first** row and **second** column i.e 41"
   ]
  },
  {
   "cell_type": "code",
   "execution_count": 9,
   "metadata": {},
   "outputs": [
    {
     "data": {
      "text/plain": [
       "41"
      ]
     },
     "execution_count": 9,
     "metadata": {},
     "output_type": "execute_result"
    }
   ],
   "source": [
    "data[0,1] #data[first row, second column]"
   ]
  },
  {
   "cell_type": "markdown",
   "metadata": {},
   "source": [
    "Find the index for 0 in the dataset"
   ]
  },
  {
   "cell_type": "code",
   "execution_count": 10,
   "metadata": {},
   "outputs": [
    {
     "data": {
      "text/plain": [
       "0"
      ]
     },
     "execution_count": 10,
     "metadata": {},
     "output_type": "execute_result"
    }
   ],
   "source": [
    "data[5,5]"
   ]
  },
  {
   "cell_type": "markdown",
   "metadata": {},
   "source": [
    "Print out the first 3 columns. \n",
    "\n",
    "*Hint:* To output everything in a dimension, you would use `:`"
   ]
  },
  {
   "cell_type": "code",
   "execution_count": 11,
   "metadata": {},
   "outputs": [
    {
     "data": {
      "text/plain": [
       "array([[50, 41, 34],\n",
       "       [41, 32, 25],\n",
       "       [34, 25, 18],\n",
       "       [29, 20, 13],\n",
       "       [26, 17, 10],\n",
       "       [25, 16,  9],\n",
       "       [26, 17, 10],\n",
       "       [29, 20, 13],\n",
       "       [34, 25, 18],\n",
       "       [41, 32, 25]])"
      ]
     },
     "execution_count": 11,
     "metadata": {},
     "output_type": "execute_result"
    }
   ],
   "source": [
    "data[:,0:3]"
   ]
  },
  {
   "cell_type": "markdown",
   "metadata": {},
   "source": [
    "\n",
    "### Indexing on xarray\n",
    "\n",
    "xarray saves its multidimensional data as NumPy arrays but has some additional functionalities.\n",
    "\n",
    "First find the three dimensions of the SST dataset.\n",
    "\n",
    "*Hint*: There's a pretty handy xarray method to do this!"
   ]
  },
  {
   "cell_type": "code",
   "execution_count": 12,
   "metadata": {},
   "outputs": [
    {
     "data": {
      "text/plain": [
       "Frozen(SortedKeysDict({'time': 1805, 'nv': 2, 'latitude': 180, 'longitude': 360}))"
      ]
     },
     "execution_count": 12,
     "metadata": {},
     "output_type": "execute_result"
    }
   ],
   "source": [
    "data1.dims"
   ]
  },
  {
   "cell_type": "markdown",
   "metadata": {},
   "source": [
    "Let's find SST of the first time period in the dataset (Jan 1870 or the 0th value of the time dimension) over the entire Earth or all the latitude and longitude values. \n",
    "\n",
    "This follows the same syntax as the 2D data we just worked with but now you have 3 dimensions!"
   ]
  },
  {
   "cell_type": "code",
   "execution_count": 13,
   "metadata": {},
   "outputs": [
    {
     "data": {
      "text/html": [
       "<pre>&lt;xarray.DataArray &#x27;sst&#x27; (latitude: 180, longitude: 360)&gt;\n",
       "array([[-1000., -1000., -1000., ..., -1000., -1000., -1000.],\n",
       "       [-1000., -1000., -1000., ..., -1000., -1000., -1000.],\n",
       "       [-1000., -1000., -1000., ..., -1000., -1000., -1000.],\n",
       "       ...,\n",
       "       [   nan,    nan,    nan, ...,    nan,    nan,    nan],\n",
       "       [   nan,    nan,    nan, ...,    nan,    nan,    nan],\n",
       "       [   nan,    nan,    nan, ...,    nan,    nan,    nan]], dtype=float32)\n",
       "Coordinates:\n",
       "    time       datetime64[ns] 1870-01-16T11:59:59.505615234\n",
       "  * latitude   (latitude) float32 89.5 88.5 87.5 86.5 ... -87.5 -88.5 -89.5\n",
       "  * longitude  (longitude) float32 -179.5 -178.5 -177.5 ... 177.5 178.5 179.5\n",
       "Attributes:\n",
       "    standard_name:  sea_surface_temperature\n",
       "    long_name:      sst\n",
       "    units:          C\n",
       "    cell_methods:   time: lat: lon: mean</pre>"
      ],
      "text/plain": [
       "<xarray.DataArray 'sst' (latitude: 180, longitude: 360)>\n",
       "array([[-1000., -1000., -1000., ..., -1000., -1000., -1000.],\n",
       "       [-1000., -1000., -1000., ..., -1000., -1000., -1000.],\n",
       "       [-1000., -1000., -1000., ..., -1000., -1000., -1000.],\n",
       "       ...,\n",
       "       [   nan,    nan,    nan, ...,    nan,    nan,    nan],\n",
       "       [   nan,    nan,    nan, ...,    nan,    nan,    nan],\n",
       "       [   nan,    nan,    nan, ...,    nan,    nan,    nan]], dtype=float32)\n",
       "Coordinates:\n",
       "    time       datetime64[ns] 1870-01-16T11:59:59.505615234\n",
       "  * latitude   (latitude) float32 89.5 88.5 87.5 86.5 ... -87.5 -88.5 -89.5\n",
       "  * longitude  (longitude) float32 -179.5 -178.5 -177.5 ... 177.5 178.5 179.5\n",
       "Attributes:\n",
       "    standard_name:  sea_surface_temperature\n",
       "    long_name:      sst\n",
       "    units:          C\n",
       "    cell_methods:   time: lat: lon: mean"
      ]
     },
     "execution_count": 13,
     "metadata": {},
     "output_type": "execute_result"
    }
   ],
   "source": [
    "sst[0,:,:]"
   ]
  },
  {
   "cell_type": "markdown",
   "metadata": {},
   "source": [
    "Find the data for the first time period and the 89th and 90th latitude value. This is all the Jan 1870 temperature data along the equator. "
   ]
  },
  {
   "cell_type": "code",
   "execution_count": 14,
   "metadata": {},
   "outputs": [
    {
     "data": {
      "text/html": [
       "<pre>&lt;xarray.DataArray &#x27;sst&#x27; (latitude: 2, longitude: 360)&gt;\n",
       "array([[28.010279, 27.919828, 27.86462 , ..., 28.264671, 28.230558, 28.148249],\n",
       "       [28.118744, 28.015932, 27.965162, ..., 28.41475 , 28.378357, 28.278654]],\n",
       "      dtype=float32)\n",
       "Coordinates:\n",
       "    time       datetime64[ns] 1870-01-16T11:59:59.505615234\n",
       "  * latitude   (latitude) float32 0.5 -0.5\n",
       "  * longitude  (longitude) float32 -179.5 -178.5 -177.5 ... 177.5 178.5 179.5\n",
       "Attributes:\n",
       "    standard_name:  sea_surface_temperature\n",
       "    long_name:      sst\n",
       "    units:          C\n",
       "    cell_methods:   time: lat: lon: mean</pre>"
      ],
      "text/plain": [
       "<xarray.DataArray 'sst' (latitude: 2, longitude: 360)>\n",
       "array([[28.010279, 27.919828, 27.86462 , ..., 28.264671, 28.230558, 28.148249],\n",
       "       [28.118744, 28.015932, 27.965162, ..., 28.41475 , 28.378357, 28.278654]],\n",
       "      dtype=float32)\n",
       "Coordinates:\n",
       "    time       datetime64[ns] 1870-01-16T11:59:59.505615234\n",
       "  * latitude   (latitude) float32 0.5 -0.5\n",
       "  * longitude  (longitude) float32 -179.5 -178.5 -177.5 ... 177.5 178.5 179.5\n",
       "Attributes:\n",
       "    standard_name:  sea_surface_temperature\n",
       "    long_name:      sst\n",
       "    units:          C\n",
       "    cell_methods:   time: lat: lon: mean"
      ]
     },
     "execution_count": 14,
     "metadata": {},
     "output_type": "execute_result"
    }
   ],
   "source": [
    "sst[0,89:91,:]"
   ]
  },
  {
   "cell_type": "markdown",
   "metadata": {},
   "source": [
    "Figuring out what coordinates these index values correspond to can be tricky. xarray makes this easier with the `loc[]` method where you can specify the range of the actual coordinate values you want. The latitude values that come closest to the equator are 0.5N (0.5) and 0.5S (-0.5).\n",
    "\n",
    "Using `loc[]`, the result above would be:"
   ]
  },
  {
   "cell_type": "code",
   "execution_count": 15,
   "metadata": {},
   "outputs": [
    {
     "data": {
      "text/html": [
       "<pre>&lt;xarray.DataArray &#x27;sst&#x27; (time: 1, latitude: 2, longitude: 360)&gt;\n",
       "array([[[28.010279, 27.919828, ..., 28.230558, 28.148249],\n",
       "        [28.118744, 28.015932, ..., 28.378357, 28.278654]]], dtype=float32)\n",
       "Coordinates:\n",
       "  * time       (time) datetime64[ns] 1870-01-16T11:59:59.505615234\n",
       "  * latitude   (latitude) float32 0.5 -0.5\n",
       "  * longitude  (longitude) float32 -179.5 -178.5 -177.5 ... 177.5 178.5 179.5\n",
       "Attributes:\n",
       "    standard_name:  sea_surface_temperature\n",
       "    long_name:      sst\n",
       "    units:          C\n",
       "    cell_methods:   time: lat: lon: mean</pre>"
      ],
      "text/plain": [
       "<xarray.DataArray 'sst' (time: 1, latitude: 2, longitude: 360)>\n",
       "array([[[28.010279, 27.919828, ..., 28.230558, 28.148249],\n",
       "        [28.118744, 28.015932, ..., 28.378357, 28.278654]]], dtype=float32)\n",
       "Coordinates:\n",
       "  * time       (time) datetime64[ns] 1870-01-16T11:59:59.505615234\n",
       "  * latitude   (latitude) float32 0.5 -0.5\n",
       "  * longitude  (longitude) float32 -179.5 -178.5 -177.5 ... 177.5 178.5 179.5\n",
       "Attributes:\n",
       "    standard_name:  sea_surface_temperature\n",
       "    long_name:      sst\n",
       "    units:          C\n",
       "    cell_methods:   time: lat: lon: mean"
      ]
     },
     "execution_count": 15,
     "metadata": {},
     "output_type": "execute_result"
    }
   ],
   "source": [
    "sst.loc['1870-01-16T11:59:59.505615234',0.5:-0.5,:] #the latitude values go from positive to negative or North to South"
   ]
  },
  {
   "cell_type": "code",
   "execution_count": 16,
   "metadata": {},
   "outputs": [
    {
     "data": {
      "text/html": [
       "<pre>&lt;xarray.DataArray &#x27;sst&#x27; (time: 1, latitude: 2, longitude: 360)&gt;\n",
       "array([[[28.010279, 27.919828, ..., 28.230558, 28.148249],\n",
       "        [28.118744, 28.015932, ..., 28.378357, 28.278654]]], dtype=float32)\n",
       "Coordinates:\n",
       "  * time       (time) datetime64[ns] 1870-01-16T11:59:59.505615234\n",
       "  * latitude   (latitude) float32 0.5 -0.5\n",
       "  * longitude  (longitude) float32 -179.5 -178.5 -177.5 ... 177.5 178.5 179.5\n",
       "Attributes:\n",
       "    standard_name:  sea_surface_temperature\n",
       "    long_name:      sst\n",
       "    units:          C\n",
       "    cell_methods:   time: lat: lon: mean</pre>"
      ],
      "text/plain": [
       "<xarray.DataArray 'sst' (time: 1, latitude: 2, longitude: 360)>\n",
       "array([[[28.010279, 27.919828, ..., 28.230558, 28.148249],\n",
       "        [28.118744, 28.015932, ..., 28.378357, 28.278654]]], dtype=float32)\n",
       "Coordinates:\n",
       "  * time       (time) datetime64[ns] 1870-01-16T11:59:59.505615234\n",
       "  * latitude   (latitude) float32 0.5 -0.5\n",
       "  * longitude  (longitude) float32 -179.5 -178.5 -177.5 ... 177.5 178.5 179.5\n",
       "Attributes:\n",
       "    standard_name:  sea_surface_temperature\n",
       "    long_name:      sst\n",
       "    units:          C\n",
       "    cell_methods:   time: lat: lon: mean"
      ]
     },
     "execution_count": 16,
     "metadata": {},
     "output_type": "execute_result"
    }
   ],
   "source": [
    "#or even (making use of the powerful time indexing)\n",
    "sst.loc['1870-01',0.5:-0.5,:]"
   ]
  },
  {
   "cell_type": "markdown",
   "metadata": {},
   "source": [
    "What about all temperature values along the equator for the year 1870?"
   ]
  },
  {
   "cell_type": "code",
   "execution_count": null,
   "metadata": {},
   "outputs": [],
   "source": []
  },
  {
   "cell_type": "markdown",
   "metadata": {},
   "source": [
    "Since we're studying the impact of the North Atlantic Oscillation on the ocean, we want to identify a good region to conduct our data analysis of ocean temperature over. What might that be?\n",
    "\n",
    "Find the SST for this region."
   ]
  },
  {
   "cell_type": "code",
   "execution_count": null,
   "metadata": {},
   "outputs": [],
   "source": []
  },
  {
   "cell_type": "markdown",
   "metadata": {},
   "source": [
    "### Masking on xarray\n",
    "\n",
    "You might have noticed that parts of the SST data are marked with NaN (or Not a Number). These are the Earth's land masses; the regions generally whited out on a plot of the data. This data is **masked**.\n",
    "\n",
    "We can create our own masks using the `where` method. Here, rather than specifying a range of values to index over, you specify a condition your data must meet. For example, all temperature values not equal to 30&deg;C.\n",
    "\n",
    "Python conditions\n",
    "* equals: `a == b`\n",
    "* not equals: `a != b`\n",
    "* less than: `a < b`\n",
    "* less than or equal to: `a <= b`\n",
    "* greater than: `a > b`\n",
    "* greater than or equal to: `a >= b`"
   ]
  },
  {
   "cell_type": "code",
   "execution_count": 17,
   "metadata": {},
   "outputs": [
    {
     "data": {
      "text/html": [
       "<pre>&lt;xarray.DataArray &#x27;sst&#x27; (time: 1805, latitude: 180, longitude: 360)&gt;\n",
       "array([[[-1000. , -1000. , -1000. , ..., -1000. , -1000. , -1000. ],\n",
       "        [-1000. , -1000. , -1000. , ..., -1000. , -1000. , -1000. ],\n",
       "        [-1000. , -1000. , -1000. , ..., -1000. , -1000. , -1000. ],\n",
       "        ...,\n",
       "        [    nan,     nan,     nan, ...,     nan,     nan,     nan],\n",
       "        [    nan,     nan,     nan, ...,     nan,     nan,     nan],\n",
       "        [    nan,     nan,     nan, ...,     nan,     nan,     nan]],\n",
       "\n",
       "       [[-1000. , -1000. , -1000. , ..., -1000. , -1000. , -1000. ],\n",
       "        [-1000. , -1000. , -1000. , ..., -1000. , -1000. , -1000. ],\n",
       "        [-1000. , -1000. , -1000. , ..., -1000. , -1000. , -1000. ],\n",
       "        ...,\n",
       "        [    nan,     nan,     nan, ...,     nan,     nan,     nan],\n",
       "        [    nan,     nan,     nan, ...,     nan,     nan,     nan],\n",
       "        [    nan,     nan,     nan, ...,     nan,     nan,     nan]],\n",
       "\n",
       "       [[-1000. , -1000. , -1000. , ..., -1000. , -1000. , -1000. ],\n",
       "        [-1000. , -1000. , -1000. , ..., -1000. , -1000. , -1000. ],\n",
       "        [-1000. , -1000. , -1000. , ..., -1000. , -1000. , -1000. ],\n",
       "        ...,\n",
       "...\n",
       "        [    nan,     nan,     nan, ...,     nan,     nan,     nan],\n",
       "        [    nan,     nan,     nan, ...,     nan,     nan,     nan],\n",
       "        [    nan,     nan,     nan, ...,     nan,     nan,     nan]],\n",
       "\n",
       "       [[-1000. , -1000. , -1000. , ..., -1000. , -1000. , -1000. ],\n",
       "        [   -1.8,    -1.8,    -1.8, ..., -1000. ,    -1.8,    -1.8],\n",
       "        [   -1.8,    -1.8,    -1.8, ...,    -1.8,    -1.8,    -1.8],\n",
       "        ...,\n",
       "        [    nan,     nan,     nan, ...,     nan,     nan,     nan],\n",
       "        [    nan,     nan,     nan, ...,     nan,     nan,     nan],\n",
       "        [    nan,     nan,     nan, ...,     nan,     nan,     nan]],\n",
       "\n",
       "       [[   -1.8,    -1.8,    -1.8, ...,    -1.8,    -1.8,    -1.8],\n",
       "        [   -1.8,    -1.8,    -1.8, ...,    -1.8,    -1.8,    -1.8],\n",
       "        [   -1.8,    -1.8,    -1.8, ...,    -1.8,    -1.8,    -1.8],\n",
       "        ...,\n",
       "        [    nan,     nan,     nan, ...,     nan,     nan,     nan],\n",
       "        [    nan,     nan,     nan, ...,     nan,     nan,     nan],\n",
       "        [    nan,     nan,     nan, ...,     nan,     nan,     nan]]],\n",
       "      dtype=float32)\n",
       "Coordinates:\n",
       "  * time       (time) datetime64[ns] 1870-01-16T11:59:59.505615234 ... 2020-0...\n",
       "  * latitude   (latitude) float32 89.5 88.5 87.5 86.5 ... -87.5 -88.5 -89.5\n",
       "  * longitude  (longitude) float32 -179.5 -178.5 -177.5 ... 177.5 178.5 179.5\n",
       "Attributes:\n",
       "    standard_name:  sea_surface_temperature\n",
       "    long_name:      sst\n",
       "    units:          C\n",
       "    cell_methods:   time: lat: lon: mean</pre>"
      ],
      "text/plain": [
       "<xarray.DataArray 'sst' (time: 1805, latitude: 180, longitude: 360)>\n",
       "array([[[-1000. , -1000. , -1000. , ..., -1000. , -1000. , -1000. ],\n",
       "        [-1000. , -1000. , -1000. , ..., -1000. , -1000. , -1000. ],\n",
       "        [-1000. , -1000. , -1000. , ..., -1000. , -1000. , -1000. ],\n",
       "        ...,\n",
       "        [    nan,     nan,     nan, ...,     nan,     nan,     nan],\n",
       "        [    nan,     nan,     nan, ...,     nan,     nan,     nan],\n",
       "        [    nan,     nan,     nan, ...,     nan,     nan,     nan]],\n",
       "\n",
       "       [[-1000. , -1000. , -1000. , ..., -1000. , -1000. , -1000. ],\n",
       "        [-1000. , -1000. , -1000. , ..., -1000. , -1000. , -1000. ],\n",
       "        [-1000. , -1000. , -1000. , ..., -1000. , -1000. , -1000. ],\n",
       "        ...,\n",
       "        [    nan,     nan,     nan, ...,     nan,     nan,     nan],\n",
       "        [    nan,     nan,     nan, ...,     nan,     nan,     nan],\n",
       "        [    nan,     nan,     nan, ...,     nan,     nan,     nan]],\n",
       "\n",
       "       [[-1000. , -1000. , -1000. , ..., -1000. , -1000. , -1000. ],\n",
       "        [-1000. , -1000. , -1000. , ..., -1000. , -1000. , -1000. ],\n",
       "        [-1000. , -1000. , -1000. , ..., -1000. , -1000. , -1000. ],\n",
       "        ...,\n",
       "...\n",
       "        [    nan,     nan,     nan, ...,     nan,     nan,     nan],\n",
       "        [    nan,     nan,     nan, ...,     nan,     nan,     nan],\n",
       "        [    nan,     nan,     nan, ...,     nan,     nan,     nan]],\n",
       "\n",
       "       [[-1000. , -1000. , -1000. , ..., -1000. , -1000. , -1000. ],\n",
       "        [   -1.8,    -1.8,    -1.8, ..., -1000. ,    -1.8,    -1.8],\n",
       "        [   -1.8,    -1.8,    -1.8, ...,    -1.8,    -1.8,    -1.8],\n",
       "        ...,\n",
       "        [    nan,     nan,     nan, ...,     nan,     nan,     nan],\n",
       "        [    nan,     nan,     nan, ...,     nan,     nan,     nan],\n",
       "        [    nan,     nan,     nan, ...,     nan,     nan,     nan]],\n",
       "\n",
       "       [[   -1.8,    -1.8,    -1.8, ...,    -1.8,    -1.8,    -1.8],\n",
       "        [   -1.8,    -1.8,    -1.8, ...,    -1.8,    -1.8,    -1.8],\n",
       "        [   -1.8,    -1.8,    -1.8, ...,    -1.8,    -1.8,    -1.8],\n",
       "        ...,\n",
       "        [    nan,     nan,     nan, ...,     nan,     nan,     nan],\n",
       "        [    nan,     nan,     nan, ...,     nan,     nan,     nan],\n",
       "        [    nan,     nan,     nan, ...,     nan,     nan,     nan]]],\n",
       "      dtype=float32)\n",
       "Coordinates:\n",
       "  * time       (time) datetime64[ns] 1870-01-16T11:59:59.505615234 ... 2020-0...\n",
       "  * latitude   (latitude) float32 89.5 88.5 87.5 86.5 ... -87.5 -88.5 -89.5\n",
       "  * longitude  (longitude) float32 -179.5 -178.5 -177.5 ... 177.5 178.5 179.5\n",
       "Attributes:\n",
       "    standard_name:  sea_surface_temperature\n",
       "    long_name:      sst\n",
       "    units:          C\n",
       "    cell_methods:   time: lat: lon: mean"
      ]
     },
     "execution_count": 17,
     "metadata": {},
     "output_type": "execute_result"
    }
   ],
   "source": [
    "sst.where(sst != 30)"
   ]
  },
  {
   "cell_type": "markdown",
   "metadata": {},
   "source": [
    "Find all the SST values less than or equal 0&deg;C"
   ]
  },
  {
   "cell_type": "code",
   "execution_count": 18,
   "metadata": {},
   "outputs": [
    {
     "data": {
      "text/html": [
       "<pre>&lt;xarray.DataArray &#x27;sst&#x27; (time: 1805, latitude: 180, longitude: 360)&gt;\n",
       "array([[[-1000. , -1000. , -1000. , ..., -1000. , -1000. , -1000. ],\n",
       "        [-1000. , -1000. , -1000. , ..., -1000. , -1000. , -1000. ],\n",
       "        [-1000. , -1000. , -1000. , ..., -1000. , -1000. , -1000. ],\n",
       "        ...,\n",
       "        [    nan,     nan,     nan, ...,     nan,     nan,     nan],\n",
       "        [    nan,     nan,     nan, ...,     nan,     nan,     nan],\n",
       "        [    nan,     nan,     nan, ...,     nan,     nan,     nan]],\n",
       "\n",
       "       [[-1000. , -1000. , -1000. , ..., -1000. , -1000. , -1000. ],\n",
       "        [-1000. , -1000. , -1000. , ..., -1000. , -1000. , -1000. ],\n",
       "        [-1000. , -1000. , -1000. , ..., -1000. , -1000. , -1000. ],\n",
       "        ...,\n",
       "        [    nan,     nan,     nan, ...,     nan,     nan,     nan],\n",
       "        [    nan,     nan,     nan, ...,     nan,     nan,     nan],\n",
       "        [    nan,     nan,     nan, ...,     nan,     nan,     nan]],\n",
       "\n",
       "       [[-1000. , -1000. , -1000. , ..., -1000. , -1000. , -1000. ],\n",
       "        [-1000. , -1000. , -1000. , ..., -1000. , -1000. , -1000. ],\n",
       "        [-1000. , -1000. , -1000. , ..., -1000. , -1000. , -1000. ],\n",
       "        ...,\n",
       "...\n",
       "        [    nan,     nan,     nan, ...,     nan,     nan,     nan],\n",
       "        [    nan,     nan,     nan, ...,     nan,     nan,     nan],\n",
       "        [    nan,     nan,     nan, ...,     nan,     nan,     nan]],\n",
       "\n",
       "       [[-1000. , -1000. , -1000. , ..., -1000. , -1000. , -1000. ],\n",
       "        [   -1.8,    -1.8,    -1.8, ..., -1000. ,    -1.8,    -1.8],\n",
       "        [   -1.8,    -1.8,    -1.8, ...,    -1.8,    -1.8,    -1.8],\n",
       "        ...,\n",
       "        [    nan,     nan,     nan, ...,     nan,     nan,     nan],\n",
       "        [    nan,     nan,     nan, ...,     nan,     nan,     nan],\n",
       "        [    nan,     nan,     nan, ...,     nan,     nan,     nan]],\n",
       "\n",
       "       [[   -1.8,    -1.8,    -1.8, ...,    -1.8,    -1.8,    -1.8],\n",
       "        [   -1.8,    -1.8,    -1.8, ...,    -1.8,    -1.8,    -1.8],\n",
       "        [   -1.8,    -1.8,    -1.8, ...,    -1.8,    -1.8,    -1.8],\n",
       "        ...,\n",
       "        [    nan,     nan,     nan, ...,     nan,     nan,     nan],\n",
       "        [    nan,     nan,     nan, ...,     nan,     nan,     nan],\n",
       "        [    nan,     nan,     nan, ...,     nan,     nan,     nan]]],\n",
       "      dtype=float32)\n",
       "Coordinates:\n",
       "  * time       (time) datetime64[ns] 1870-01-16T11:59:59.505615234 ... 2020-0...\n",
       "  * latitude   (latitude) float32 89.5 88.5 87.5 86.5 ... -87.5 -88.5 -89.5\n",
       "  * longitude  (longitude) float32 -179.5 -178.5 -177.5 ... 177.5 178.5 179.5\n",
       "Attributes:\n",
       "    standard_name:  sea_surface_temperature\n",
       "    long_name:      sst\n",
       "    units:          C\n",
       "    cell_methods:   time: lat: lon: mean</pre>"
      ],
      "text/plain": [
       "<xarray.DataArray 'sst' (time: 1805, latitude: 180, longitude: 360)>\n",
       "array([[[-1000. , -1000. , -1000. , ..., -1000. , -1000. , -1000. ],\n",
       "        [-1000. , -1000. , -1000. , ..., -1000. , -1000. , -1000. ],\n",
       "        [-1000. , -1000. , -1000. , ..., -1000. , -1000. , -1000. ],\n",
       "        ...,\n",
       "        [    nan,     nan,     nan, ...,     nan,     nan,     nan],\n",
       "        [    nan,     nan,     nan, ...,     nan,     nan,     nan],\n",
       "        [    nan,     nan,     nan, ...,     nan,     nan,     nan]],\n",
       "\n",
       "       [[-1000. , -1000. , -1000. , ..., -1000. , -1000. , -1000. ],\n",
       "        [-1000. , -1000. , -1000. , ..., -1000. , -1000. , -1000. ],\n",
       "        [-1000. , -1000. , -1000. , ..., -1000. , -1000. , -1000. ],\n",
       "        ...,\n",
       "        [    nan,     nan,     nan, ...,     nan,     nan,     nan],\n",
       "        [    nan,     nan,     nan, ...,     nan,     nan,     nan],\n",
       "        [    nan,     nan,     nan, ...,     nan,     nan,     nan]],\n",
       "\n",
       "       [[-1000. , -1000. , -1000. , ..., -1000. , -1000. , -1000. ],\n",
       "        [-1000. , -1000. , -1000. , ..., -1000. , -1000. , -1000. ],\n",
       "        [-1000. , -1000. , -1000. , ..., -1000. , -1000. , -1000. ],\n",
       "        ...,\n",
       "...\n",
       "        [    nan,     nan,     nan, ...,     nan,     nan,     nan],\n",
       "        [    nan,     nan,     nan, ...,     nan,     nan,     nan],\n",
       "        [    nan,     nan,     nan, ...,     nan,     nan,     nan]],\n",
       "\n",
       "       [[-1000. , -1000. , -1000. , ..., -1000. , -1000. , -1000. ],\n",
       "        [   -1.8,    -1.8,    -1.8, ..., -1000. ,    -1.8,    -1.8],\n",
       "        [   -1.8,    -1.8,    -1.8, ...,    -1.8,    -1.8,    -1.8],\n",
       "        ...,\n",
       "        [    nan,     nan,     nan, ...,     nan,     nan,     nan],\n",
       "        [    nan,     nan,     nan, ...,     nan,     nan,     nan],\n",
       "        [    nan,     nan,     nan, ...,     nan,     nan,     nan]],\n",
       "\n",
       "       [[   -1.8,    -1.8,    -1.8, ...,    -1.8,    -1.8,    -1.8],\n",
       "        [   -1.8,    -1.8,    -1.8, ...,    -1.8,    -1.8,    -1.8],\n",
       "        [   -1.8,    -1.8,    -1.8, ...,    -1.8,    -1.8,    -1.8],\n",
       "        ...,\n",
       "        [    nan,     nan,     nan, ...,     nan,     nan,     nan],\n",
       "        [    nan,     nan,     nan, ...,     nan,     nan,     nan],\n",
       "        [    nan,     nan,     nan, ...,     nan,     nan,     nan]]],\n",
       "      dtype=float32)\n",
       "Coordinates:\n",
       "  * time       (time) datetime64[ns] 1870-01-16T11:59:59.505615234 ... 2020-0...\n",
       "  * latitude   (latitude) float32 89.5 88.5 87.5 86.5 ... -87.5 -88.5 -89.5\n",
       "  * longitude  (longitude) float32 -179.5 -178.5 -177.5 ... 177.5 178.5 179.5\n",
       "Attributes:\n",
       "    standard_name:  sea_surface_temperature\n",
       "    long_name:      sst\n",
       "    units:          C\n",
       "    cell_methods:   time: lat: lon: mean"
      ]
     },
     "execution_count": 18,
     "metadata": {},
     "output_type": "execute_result"
    }
   ],
   "source": [
    "sst.where(sst <= 0)"
   ]
  },
  {
   "cell_type": "markdown",
   "metadata": {},
   "source": [
    "Plot the mean of this masked SST data using a contour plot"
   ]
  },
  {
   "cell_type": "code",
   "execution_count": 19,
   "metadata": {
    "scrolled": true
   },
   "outputs": [
    {
     "data": {
      "image/png": "[encoded data removed]",
      "text/plain": [
       "<Figure size 432x288 with 2 Axes>"
      ]
     },
     "metadata": {
      "needs_background": "light"
     },
     "output_type": "display_data"
    }
   ],
   "source": [
    "plt.figure()\n",
    "plt.contourf(sst.longitude,sst.latitude,sst.where(sst >= 0).mean(dim=\"time\"), cmap= \"cool\")\n",
    "plt.colorbar(label = 'Temperature')\n",
    "plt.xlabel('longitude')\n",
    "plt.ylabel('latitude')\n",
    "plt.show()"
   ]
  },
  {
   "cell_type": "code",
   "execution_count": 46,
   "metadata": {},
   "outputs": [
    {
     "data": {
      "image/png": "[encoded data removed]",
      "text/plain": [
       "<Figure size 432x288 with 2 Axes>"
      ]
     },
     "metadata": {
      "needs_background": "light"
     },
     "output_type": "display_data"
    }
   ],
   "source": [
    "#plot where it masks sea ice temp\n",
    "plt.figure()\n",
    "plt.contourf(sst.longitude,sst.latitude,sst.where(sst >= -5).mean(dim=\"time\"), cmap= \"cool\")\n",
    "plt.colorbar(label = 'Temperature')\n",
    "plt.xlabel('longitude')\n",
    "plt.ylabel('latitude')\n",
    "plt.show()"
   ]
  },
  {
   "cell_type": "code",
   "execution_count": 42,
   "metadata": {},
   "outputs": [
    {
     "data": {
      "text/html": [
       "<pre>&lt;xarray.DataArray &#x27;sst&#x27; ()&gt;\n",
       "array(-1.79999995)</pre>"
      ],
      "text/plain": [
       "<xarray.DataArray 'sst' ()>\n",
       "array(-1.79999995)"
      ]
     },
     "execution_count": 42,
     "metadata": {},
     "output_type": "execute_result"
    }
   ],
   "source": [
    "sst.where(sst > -10).min()"
   ]
  },
  {
   "cell_type": "code",
   "execution_count": 48,
   "metadata": {},
   "outputs": [
    {
     "data": {
      "image/png": "[encoded data removed]",
      "text/plain": [
       "<Figure size 1440x720 with 2 Axes>"
      ]
     },
     "metadata": {
      "needs_background": "light"
     },
     "output_type": "display_data"
    },
    {
     "ename": "TypeError",
     "evalue": "savefig() missing 1 required positional argument: 'fname'",
     "output_type": "error",
     "traceback": [
      "\u001b[0;31m---------------------------------------------------------------------------\u001b[0m",
      "\u001b[0;31mTypeError\u001b[0m                                 Traceback (most recent call last)",
      "\u001b[0;32m<ipython-input-48-81c95af0570c>\u001b[0m in \u001b[0;36m<module>\u001b[0;34m\u001b[0m\n\u001b[1;32m      6\u001b[0m \u001b[0mplt\u001b[0m\u001b[0;34m.\u001b[0m\u001b[0mylabel\u001b[0m\u001b[0;34m(\u001b[0m\u001b[0;34m'latitude'\u001b[0m\u001b[0;34m)\u001b[0m\u001b[0;34m\u001b[0m\u001b[0;34m\u001b[0m\u001b[0m\n\u001b[1;32m      7\u001b[0m \u001b[0mplt\u001b[0m\u001b[0;34m.\u001b[0m\u001b[0mshow\u001b[0m\u001b[0;34m(\u001b[0m\u001b[0;34m)\u001b[0m\u001b[0;34m\u001b[0m\u001b[0;34m\u001b[0m\u001b[0m\n\u001b[0;32m----> 8\u001b[0;31m \u001b[0mplt\u001b[0m\u001b[0;34m.\u001b[0m\u001b[0msavefig\u001b[0m\u001b[0;34m(\u001b[0m\u001b[0mdpi\u001b[0m \u001b[0;34m=\u001b[0m \u001b[0;36m200\u001b[0m\u001b[0;34m)\u001b[0m\u001b[0;34m\u001b[0m\u001b[0;34m\u001b[0m\u001b[0m\n\u001b[0m",
      "\u001b[0;32m~/opt/anaconda3/lib/python3.8/site-packages/matplotlib/pyplot.py\u001b[0m in \u001b[0;36msavefig\u001b[0;34m(*args, **kwargs)\u001b[0m\n\u001b[1;32m    857\u001b[0m \u001b[0;32mdef\u001b[0m \u001b[0msavefig\u001b[0m\u001b[0;34m(\u001b[0m\u001b[0;34m*\u001b[0m\u001b[0margs\u001b[0m\u001b[0;34m,\u001b[0m \u001b[0;34m**\u001b[0m\u001b[0mkwargs\u001b[0m\u001b[0;34m)\u001b[0m\u001b[0;34m:\u001b[0m\u001b[0;34m\u001b[0m\u001b[0;34m\u001b[0m\u001b[0m\n\u001b[1;32m    858\u001b[0m     \u001b[0mfig\u001b[0m \u001b[0;34m=\u001b[0m \u001b[0mgcf\u001b[0m\u001b[0;34m(\u001b[0m\u001b[0;34m)\u001b[0m\u001b[0;34m\u001b[0m\u001b[0;34m\u001b[0m\u001b[0m\n\u001b[0;32m--> 859\u001b[0;31m     \u001b[0mres\u001b[0m \u001b[0;34m=\u001b[0m \u001b[0mfig\u001b[0m\u001b[0;34m.\u001b[0m\u001b[0msavefig\u001b[0m\u001b[0;34m(\u001b[0m\u001b[0;34m*\u001b[0m\u001b[0margs\u001b[0m\u001b[0;34m,\u001b[0m \u001b[0;34m**\u001b[0m\u001b[0mkwargs\u001b[0m\u001b[0;34m)\u001b[0m\u001b[0;34m\u001b[0m\u001b[0;34m\u001b[0m\u001b[0m\n\u001b[0m\u001b[1;32m    860\u001b[0m     \u001b[0mfig\u001b[0m\u001b[0;34m.\u001b[0m\u001b[0mcanvas\u001b[0m\u001b[0;34m.\u001b[0m\u001b[0mdraw_idle\u001b[0m\u001b[0;34m(\u001b[0m\u001b[0;34m)\u001b[0m   \u001b[0;31m# need this if 'transparent=True' to reset colors\u001b[0m\u001b[0;34m\u001b[0m\u001b[0;34m\u001b[0m\u001b[0m\n\u001b[1;32m    861\u001b[0m     \u001b[0;32mreturn\u001b[0m \u001b[0mres\u001b[0m\u001b[0;34m\u001b[0m\u001b[0;34m\u001b[0m\u001b[0m\n",
      "\u001b[0;31mTypeError\u001b[0m: savefig() missing 1 required positional argument: 'fname'"
     ]
    },
    {
     "data": {
      "text/plain": [
       "<Figure size 432x288 with 0 Axes>"
      ]
     },
     "metadata": {},
     "output_type": "display_data"
    }
   ],
   "source": [
    "\n",
    "plt.figure(figsize = (20, 10))\n",
    "plt.contourf(atlantic2.longitude,atlantic2.latitude,atlantic2.where(sst >= -5).mean(dim=\"time\"), cmap= \"cool\")\n",
    "plt.colorbar(label = 'Temperature')\n",
    "plt.title(\"Ocean Temperatures of the Atlantic Ocean\")\n",
    "plt.xlabel('longitude')\n",
    "plt.ylabel('latitude')\n",
    "plt.show()\n",
    "#plt.savefig(dpi = 200)"
   ]
  },
  {
   "cell_type": "code",
   "execution_count": 22,
   "metadata": {},
   "outputs": [],
   "source": [
    "atlantic1 = sst.where(sst.longitude <= 50)\n",
    "atlantic2 = atlantic1.where(atlantic1.longitude >= -100)"
   ]
  },
  {
   "cell_type": "code",
   "execution_count": 23,
   "metadata": {},
   "outputs": [],
   "source": [
    "#plot for the atlantic ocean\n",
    "#plt.figure()\n",
    "#plt.contourf(sst.longitude[100:210],sst.latitude,sst.where(sst <= 0).mean(dim=\"time\"), cmap= \"cool\")\n",
    "#plt.colorbar(label = 'Temperature')\n",
    "#plt.xlabel('longitude')\n",
    "#plt.ylabel('latitude')\n",
    "#plt.show()"
   ]
  },
  {
   "cell_type": "code",
   "execution_count": 24,
   "metadata": {},
   "outputs": [
    {
     "data": {
      "text/html": [
       "<pre>&lt;xarray.DataArray &#x27;sst&#x27; (latitude: 180, longitude: 360)&gt;\n",
       "array([[-805.3344 , -743.95   , -743.95   , ..., -802.0161 , -802.56915,\n",
       "        -802.56915],\n",
       "       [-623.39545, -623.9485 , -626.71356, ..., -622.8424 , -621.73645,\n",
       "        -622.84247],\n",
       "       [-467.44693, -529.3849 , -534.91504, ..., -469.10596, -532.14996,\n",
       "        -474.63608],\n",
       "       ...,\n",
       "       [       nan,        nan,        nan, ...,        nan,        nan,\n",
       "               nan],\n",
       "       [       nan,        nan,        nan, ...,        nan,        nan,\n",
       "               nan],\n",
       "       [       nan,        nan,        nan, ...,        nan,        nan,\n",
       "               nan]], dtype=float32)\n",
       "Coordinates:\n",
       "  * latitude   (latitude) float32 89.5 88.5 87.5 86.5 ... -87.5 -88.5 -89.5\n",
       "  * longitude  (longitude) float32 -179.5 -178.5 -177.5 ... 177.5 178.5 179.5</pre>"
      ],
      "text/plain": [
       "<xarray.DataArray 'sst' (latitude: 180, longitude: 360)>\n",
       "array([[-805.3344 , -743.95   , -743.95   , ..., -802.0161 , -802.56915,\n",
       "        -802.56915],\n",
       "       [-623.39545, -623.9485 , -626.71356, ..., -622.8424 , -621.73645,\n",
       "        -622.84247],\n",
       "       [-467.44693, -529.3849 , -534.91504, ..., -469.10596, -532.14996,\n",
       "        -474.63608],\n",
       "       ...,\n",
       "       [       nan,        nan,        nan, ...,        nan,        nan,\n",
       "               nan],\n",
       "       [       nan,        nan,        nan, ...,        nan,        nan,\n",
       "               nan],\n",
       "       [       nan,        nan,        nan, ...,        nan,        nan,\n",
       "               nan]], dtype=float32)\n",
       "Coordinates:\n",
       "  * latitude   (latitude) float32 89.5 88.5 87.5 86.5 ... -87.5 -88.5 -89.5\n",
       "  * longitude  (longitude) float32 -179.5 -178.5 -177.5 ... 177.5 178.5 179.5"
      ]
     },
     "execution_count": 24,
     "metadata": {},
     "output_type": "execute_result"
    }
   ],
   "source": [
    "sst.mean()\n",
    "sst.mean(dim=\"time\")"
   ]
  },
  {
   "cell_type": "code",
   "execution_count": 25,
   "metadata": {},
   "outputs": [
    {
     "data": {
      "text/html": [
       "<pre>&lt;xarray.DataArray &#x27;sst&#x27; (latitude: 180, longitude: 360)&gt;\n",
       "array([[nan, nan, nan, ..., nan, nan, nan],\n",
       "       [nan, nan, nan, ..., nan, nan, nan],\n",
       "       [nan, nan, nan, ..., nan, nan, nan],\n",
       "       ...,\n",
       "       [nan, nan, nan, ..., nan, nan, nan],\n",
       "       [nan, nan, nan, ..., nan, nan, nan],\n",
       "       [nan, nan, nan, ..., nan, nan, nan]], dtype=float32)\n",
       "Coordinates:\n",
       "  * latitude   (latitude) float32 89.5 88.5 87.5 86.5 ... -87.5 -88.5 -89.5\n",
       "  * longitude  (longitude) float32 -179.5 -178.5 -177.5 ... 177.5 178.5 179.5</pre>"
      ],
      "text/plain": [
       "<xarray.DataArray 'sst' (latitude: 180, longitude: 360)>\n",
       "array([[nan, nan, nan, ..., nan, nan, nan],\n",
       "       [nan, nan, nan, ..., nan, nan, nan],\n",
       "       [nan, nan, nan, ..., nan, nan, nan],\n",
       "       ...,\n",
       "       [nan, nan, nan, ..., nan, nan, nan],\n",
       "       [nan, nan, nan, ..., nan, nan, nan],\n",
       "       [nan, nan, nan, ..., nan, nan, nan]], dtype=float32)\n",
       "Coordinates:\n",
       "  * latitude   (latitude) float32 89.5 88.5 87.5 86.5 ... -87.5 -88.5 -89.5\n",
       "  * longitude  (longitude) float32 -179.5 -178.5 -177.5 ... 177.5 178.5 179.5"
      ]
     },
     "execution_count": 25,
     "metadata": {},
     "output_type": "execute_result"
    }
   ],
   "source": [
    "sst.where(sst >= 0).mean(dim=\"time\")"
   ]
  },
  {
   "cell_type": "code",
   "execution_count": 26,
   "metadata": {},
   "outputs": [
    {
     "data": {
      "text/html": [
       "<pre>&lt;xarray.DataArray &#x27;longitude&#x27; (longitude: 110)&gt;\n",
       "array([-79.5, -78.5, -77.5, -76.5, -75.5, -74.5, -73.5, -72.5, -71.5, -70.5,\n",
       "       -69.5, -68.5, -67.5, -66.5, -65.5, -64.5, -63.5, -62.5, -61.5, -60.5,\n",
       "       -59.5, -58.5, -57.5, -56.5, -55.5, -54.5, -53.5, -52.5, -51.5, -50.5,\n",
       "       -49.5, -48.5, -47.5, -46.5, -45.5, -44.5, -43.5, -42.5, -41.5, -40.5,\n",
       "       -39.5, -38.5, -37.5, -36.5, -35.5, -34.5, -33.5, -32.5, -31.5, -30.5,\n",
       "       -29.5, -28.5, -27.5, -26.5, -25.5, -24.5, -23.5, -22.5, -21.5, -20.5,\n",
       "       -19.5, -18.5, -17.5, -16.5, -15.5, -14.5, -13.5, -12.5, -11.5, -10.5,\n",
       "        -9.5,  -8.5,  -7.5,  -6.5,  -5.5,  -4.5,  -3.5,  -2.5,  -1.5,  -0.5,\n",
       "         0.5,   1.5,   2.5,   3.5,   4.5,   5.5,   6.5,   7.5,   8.5,   9.5,\n",
       "        10.5,  11.5,  12.5,  13.5,  14.5,  15.5,  16.5,  17.5,  18.5,  19.5,\n",
       "        20.5,  21.5,  22.5,  23.5,  24.5,  25.5,  26.5,  27.5,  28.5,  29.5],\n",
       "      dtype=float32)\n",
       "Coordinates:\n",
       "  * longitude  (longitude) float32 -79.5 -78.5 -77.5 -76.5 ... 27.5 28.5 29.5\n",
       "Attributes:\n",
       "    units:          degrees_east\n",
       "    long_name:      Longitude\n",
       "    standard_name:  longitude</pre>"
      ],
      "text/plain": [
       "<xarray.DataArray 'longitude' (longitude: 110)>\n",
       "array([-79.5, -78.5, -77.5, -76.5, -75.5, -74.5, -73.5, -72.5, -71.5, -70.5,\n",
       "       -69.5, -68.5, -67.5, -66.5, -65.5, -64.5, -63.5, -62.5, -61.5, -60.5,\n",
       "       -59.5, -58.5, -57.5, -56.5, -55.5, -54.5, -53.5, -52.5, -51.5, -50.5,\n",
       "       -49.5, -48.5, -47.5, -46.5, -45.5, -44.5, -43.5, -42.5, -41.5, -40.5,\n",
       "       -39.5, -38.5, -37.5, -36.5, -35.5, -34.5, -33.5, -32.5, -31.5, -30.5,\n",
       "       -29.5, -28.5, -27.5, -26.5, -25.5, -24.5, -23.5, -22.5, -21.5, -20.5,\n",
       "       -19.5, -18.5, -17.5, -16.5, -15.5, -14.5, -13.5, -12.5, -11.5, -10.5,\n",
       "        -9.5,  -8.5,  -7.5,  -6.5,  -5.5,  -4.5,  -3.5,  -2.5,  -1.5,  -0.5,\n",
       "         0.5,   1.5,   2.5,   3.5,   4.5,   5.5,   6.5,   7.5,   8.5,   9.5,\n",
       "        10.5,  11.5,  12.5,  13.5,  14.5,  15.5,  16.5,  17.5,  18.5,  19.5,\n",
       "        20.5,  21.5,  22.5,  23.5,  24.5,  25.5,  26.5,  27.5,  28.5,  29.5],\n",
       "      dtype=float32)\n",
       "Coordinates:\n",
       "  * longitude  (longitude) float32 -79.5 -78.5 -77.5 -76.5 ... 27.5 28.5 29.5\n",
       "Attributes:\n",
       "    units:          degrees_east\n",
       "    long_name:      Longitude\n",
       "    standard_name:  longitude"
      ]
     },
     "execution_count": 26,
     "metadata": {},
     "output_type": "execute_result"
    }
   ],
   "source": [
    "sstAtlantic = sst.longitude[100:210]\n",
    "sstAtlantic"
   ]
  },
  {
   "cell_type": "code",
   "execution_count": 27,
   "metadata": {},
   "outputs": [
    {
     "name": "stdout",
     "output_type": "stream",
     "text": [
      "(5,)\n",
      "[3 4 5]\n"
     ]
    }
   ],
   "source": [
    "A = np.array([1,2,3,4,5])\n",
    "print(A.shape)\n",
    "print(A[2:5])    #2<=x<5"
   ]
  },
  {
   "cell_type": "code",
   "execution_count": null,
   "metadata": {},
   "outputs": [],
   "source": [
    "B = np.array([[ 1,  2,  3,  4,  5],[ 6,  7,  8,  9, 10],[11, 12, 13, 14, 15]])\n",
    "print(len(B)) #shows how many \"lists\"\n",
    "print(B.shape) #shows how many groups, rows, and columns\n",
    "\n",
    "print(B[:, 0]) #B[row index, column index]\n",
    "\n",
    "#first 3 columns\n",
    "print(B[:,2:5])"
   ]
  },
  {
   "cell_type": "code",
   "execution_count": null,
   "metadata": {},
   "outputs": [],
   "source": [
    "C = np.arange(1,31).reshape(2,3,5)\n",
    "C[0,0:3,2:5]"
   ]
  },
  {
   "cell_type": "markdown",
   "metadata": {},
   "source": [
    "### Challenge\n",
    "\n",
    "Plot the mean SST for the Northern Hemisphere.\n",
    "\n",
    "*Hint*: You can set your conditions for SST based on your latitude values"
   ]
  },
  {
   "cell_type": "code",
   "execution_count": null,
   "metadata": {},
   "outputs": [],
   "source": []
  }
 ],
 "metadata": {
  "kernelspec": {
   "display_name": "Python 3",
   "language": "python",
   "name": "python3"
  },
  "language_info": {
   "codemirror_mode": {
    "name": "ipython",
    "version": 3
   },
   "file_extension": ".py",
   "mimetype": "text/x-python",
   "name": "python",
   "nbconvert_exporter": "python",
   "pygments_lexer": "ipython3",
   "version": "3.8.5"
  }
 },
 "nbformat": 4,
 "nbformat_minor": 4
}
