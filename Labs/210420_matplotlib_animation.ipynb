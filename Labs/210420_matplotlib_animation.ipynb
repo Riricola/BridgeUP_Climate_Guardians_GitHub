{
 "cells": [
  {
   "cell_type": "markdown",
   "id": "eb303526",
   "metadata": {},
   "source": [
    "## Animations with Matplotlib\n",
    "\n",
    "Animations are an other way to visualize three-dimensional data like our SST dataset. The steps we will need to take is nicely explained in the tutorial [here](https://brushingupscience.com/2016/06/21/matplotlib-animations-the-easy-way/). \n",
    "**Read through the tutorial first before going through this notebook**"
   ]
  },
  {
   "cell_type": "code",
   "execution_count": null,
   "id": "bcb15dd0",
   "metadata": {},
   "outputs": [],
   "source": [
    "#Import libraries\n",
    "import numpy as np\n",
    "import matplotlib.pyplot as plt\n",
    "from matplotlib.animation import FuncAnimation\n",
    "\n",
    "#Create dataset\n",
    "x = np.linspace(-3, 3, 91)\n",
    "t = np.linspace(0, 25, 30)\n",
    "y = np.linspace(-3, 3, 91)\n",
    "X3, Y3, T3 = np.meshgrid(x, y, t)\n",
    "sinT3 = np.sin(2*np.pi*T3)\n",
    "G = (X3**2 + Y3**2)*sinT3\n",
    "\n",
    "print('Shape of dataset:', G.shape)"
   ]
  },
  {
   "cell_type": "markdown",
   "id": "db7f2ca2",
   "metadata": {},
   "source": [
    "Like in the tutorial, we'll be using `FuncAnimation` from `matplotlib` to animate our plots by  creating a function that generates each frame of the animation. I've just copied the code for making an animated contour plot from the tutorial. \n",
    "\n",
    "Add detailed comments to describe each step of this script. Don't worry if a particular step doesn't make sense! We'll discuss this together. The `matplotlib` documentation and Google are also helpful resources."
   ]
  },
  {
   "cell_type": "markdown",
   "id": "ed7220a2",
   "metadata": {},
   "source": [
    "##### Quick note on `fig` and `ax`\n",
    "\n",
    "In `matplotlib`, you can make your figure window (`fig`) and your plot axes (`ax`) separate variables that you can then edit. The following image shows you different ways to save these variables.\n",
    "\n",
    "![](https://miro.medium.com/max/1200/1*CANkzqegZcHv9znE1U4s7A.png)"
   ]
  },
  {
   "cell_type": "markdown",
   "id": "701bb326",
   "metadata": {},
   "source": [
    "These are functions you're familiar with but can also be used as methods acting on a specific axes or figure window.\n",
    "\n",
    " Matplotlib functions | Matplotlib methods\n",
    "------------- | -------------\n",
    "`plt.title('title')` | `ax.set_title('title')`\n",
    "`plt.xlabel('x')`  | `ax.set_xlabel('x')`\n",
    "`plt.colorbar()`  | `fig.colorbar(ax)`"
   ]
  },
  {
   "cell_type": "markdown",
   "id": "1c7190b5",
   "metadata": {},
   "source": [
    "### Animated contour plot\n",
    "\n",
    "Make sure to add descriptive comments!"
   ]
  },
  {
   "cell_type": "code",
   "execution_count": null,
   "id": "f5b72861",
   "metadata": {},
   "outputs": [],
   "source": [
    "#Save figure window and axes as separate variables\n",
    "fig, ax = plt.subplots(figsize=[5, 5])\n",
    "\n",
    "contour_opts = {'levels': np.linspace(-9, 9, 10), 'cmap':'RdBu', 'lw': 2}\n",
    "cax = ax.contour(x, y, G[:,:, 0], **contour_opts)\n",
    "\n",
    "def animate(i):\n",
    "    ax.collections = [] \n",
    "    ax.contour(x, y, G[:,:, i], **contour_opts)\n",
    "\n",
    "anim = FuncAnimation(fig, animate, interval=100, frames=len(t)-1)\n",
    "fig.show()\n",
    "\n",
    "anim.save('animated_contour_plot.mp4')"
   ]
  },
  {
   "cell_type": "markdown",
   "id": "59ab1354",
   "metadata": {},
   "source": [
    "### Animated contourf plot\n",
    "\n",
    "Use the code above to make an animated `contourf` plot. Make sure to add descriptive comments!\n",
    "\n",
    "Add:\n",
    "* colorbar labelled G\n",
    "* x label\n",
    "* y label\n",
    "* title"
   ]
  },
  {
   "cell_type": "code",
   "execution_count": null,
   "id": "8e529a19",
   "metadata": {},
   "outputs": [],
   "source": [
    "\n"
   ]
  },
  {
   "cell_type": "code",
   "execution_count": null,
   "id": "fdd6d0af",
   "metadata": {},
   "outputs": [],
   "source": [
    "#You can use this space to explore other animated plots introduced in the tutorial\n",
    "\n"
   ]
  }
 ],
 "metadata": {
  "kernelspec": {
   "display_name": "Python 3",
   "language": "python",
   "name": "python3"
  },
  "language_info": {
   "codemirror_mode": {
    "name": "ipython",
    "version": 3
   },
   "file_extension": ".py",
   "mimetype": "text/x-python",
   "name": "python",
   "nbconvert_exporter": "python",
   "pygments_lexer": "ipython3",
   "version": "3.7.10"
  }
 },
 "nbformat": 4,
 "nbformat_minor": 5
}
